{
 "cells": [
  {
   "cell_type": "code",
   "execution_count": 1,
   "id": "1ae56f01-e5be-4de5-a273-c23e157b1c54",
   "metadata": {},
   "outputs": [],
   "source": [
    "#Proj Euler Probs 1-3"
   ]
  },
  {
   "cell_type": "code",
   "execution_count": 5,
   "id": "39a3eb88-4360-4cf8-b6d1-9322565b4288",
   "metadata": {},
   "outputs": [
    {
     "name": "stdout",
     "output_type": "stream",
     "text": [
      "23\n"
     ]
    }
   ],
   "source": [
    "sum = 0\n",
    "#test for 10\n",
    "for i in range(10):\n",
    "    if i % 3 == 0 or i % 5 == 0:\n",
    "        sum += i\n",
    "\n",
    "print(sum)"
   ]
  },
  {
   "cell_type": "code",
   "execution_count": 7,
   "id": "99502a3f-8914-4207-b771-a94ccc059112",
   "metadata": {},
   "outputs": [
    {
     "name": "stdout",
     "output_type": "stream",
     "text": [
      "233168\n"
     ]
    }
   ],
   "source": [
    "#Euler Prob 1\n",
    "sum = 0\n",
    "\n",
    "for i in range(1000):\n",
    "    if i % 3 == 0 or i % 5 == 0:\n",
    "        sum += i\n",
    "\n",
    "print(sum)"
   ]
  },
  {
   "cell_type": "code",
   "execution_count": 15,
   "id": "1c848d8e-efca-4938-a790-eb345c258aa4",
   "metadata": {},
   "outputs": [
    {
     "data": {
      "text/plain": [
       "32"
      ]
     },
     "execution_count": 15,
     "metadata": {},
     "output_type": "execute_result"
    }
   ],
   "source": [
    "#Euler Prob 2\n",
    "FNums = [1, 2]\n",
    "sum = 0\n",
    "\n",
    "#how many fnums till we reach 4M\n",
    "for i in range(4000000):\n",
    "    if i == FNums[-1] + FNums[-2]:\n",
    "        FNums.append(i)\n",
    "#len(FNums)\n"
   ]
  },
  {
   "cell_type": "code",
   "execution_count": 17,
   "id": "a0bfbd71-2581-4f1b-8e8c-5957546db9a6",
   "metadata": {},
   "outputs": [
    {
     "name": "stdout",
     "output_type": "stream",
     "text": [
      "4613732\n"
     ]
    }
   ],
   "source": [
    "for n in FNums:\n",
    "    if n % 2 == 0:\n",
    "        sum += n\n",
    "\n",
    "print(sum)"
   ]
  },
  {
   "cell_type": "code",
   "execution_count": 31,
   "id": "5826e45e-ecb9-4f2e-88d1-3cbc7ccbdded",
   "metadata": {},
   "outputs": [
    {
     "data": {
      "text/plain": [
       "29.0"
      ]
     },
     "execution_count": 31,
     "metadata": {},
     "output_type": "execute_result"
    }
   ],
   "source": [
    "#Euler Prob 3\n",
    "#test for 13195, largest prime num\n",
    "num = 13195\n",
    "i = 2\n",
    "\n",
    "while i * i < num:\n",
    "    while num % i == 0:\n",
    "        num = num / i\n",
    "    i = i + 1\n",
    "\n",
    "num\n"
   ]
  },
  {
   "cell_type": "code",
   "execution_count": 33,
   "id": "2404a968-a0f6-4230-b284-07a5710b74ce",
   "metadata": {},
   "outputs": [
    {
     "data": {
      "text/plain": [
       "6857.0"
      ]
     },
     "execution_count": 33,
     "metadata": {},
     "output_type": "execute_result"
    }
   ],
   "source": [
    "num = 600851475143\n",
    "i = 2\n",
    "while i * i < num:\n",
    "    while num % i == 0:\n",
    "        num = num / i\n",
    "    i = i + 1\n",
    "\n",
    "num"
   ]
  },
  {
   "cell_type": "code",
   "execution_count": null,
   "id": "ed98d462-4159-46bf-951b-84005e3b45cd",
   "metadata": {},
   "outputs": [],
   "source": []
  }
 ],
 "metadata": {
  "kernelspec": {
   "display_name": "Python 3 (ipykernel)",
   "language": "python",
   "name": "python3"
  },
  "language_info": {
   "codemirror_mode": {
    "name": "ipython",
    "version": 3
   },
   "file_extension": ".py",
   "mimetype": "text/x-python",
   "name": "python",
   "nbconvert_exporter": "python",
   "pygments_lexer": "ipython3",
   "version": "3.12.4"
  }
 },
 "nbformat": 4,
 "nbformat_minor": 5
}
