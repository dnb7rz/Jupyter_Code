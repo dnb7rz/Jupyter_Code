{
 "cells": [
  {
   "cell_type": "markdown",
   "id": "267b79de-ad97-4e1a-8a7a-72119275438b",
   "metadata": {},
   "source": [
    "# CLT Proof"
   ]
  },
  {
   "cell_type": "markdown",
   "id": "80e84539-3832-43b9-b7d4-5a94d1b16a23",
   "metadata": {},
   "source": [
    "## Central Limit Theorem"
   ]
  },
  {
   "cell_type": "markdown",
   "id": "58666be0-cc0b-4a04-b8e6-d0e408c68178",
   "metadata": {},
   "source": [
    "- Statistical theory that states that the mean of a sample from a population will be close to the population mean if the sample size is large enough\n",
    "- the distribution of the sample mean will be normal, regardless of the distribution of the population\n",
    "- Binomial sample with normal distribution"
   ]
  },
  {
   "cell_type": "markdown",
   "id": "4e2657a1-9439-435a-8999-5d68b81b4a92",
   "metadata": {},
   "source": [
    "## Generate a random binomial distribution"
   ]
  },
  {
   "cell_type": "markdown",
   "id": "81321d49-cb6f-4548-b607-639b8b3cfc49",
   "metadata": {},
   "source": [
    "\n",
    "```python \n",
    "import numpy as np\n",
    "import matplotlib.pyplot as plt \n",
    "n, p = 10, .5  # number, prob\n",
    "bi_hist = np.random.binomial(n, p, 10000)\n",
    "plt.plot(bi_hist)\n",
    "out.show()\n",
    "```"
   ]
  },
  {
   "cell_type": "markdown",
   "id": "50512a95-3a77-492e-923a-60a645e810a8",
   "metadata": {},
   "source": [
    "## A large binomial sample moves toward a normal distribution"
   ]
  },
  {
   "cell_type": "code",
   "execution_count": null,
   "id": "272b9852-07d8-463a-b92f-ddc3b3339267",
   "metadata": {},
   "outputs": [],
   "source": []
  }
 ],
 "metadata": {
  "kernelspec": {
   "display_name": "Python 3 (ipykernel)",
   "language": "python",
   "name": "python3"
  },
  "language_info": {
   "codemirror_mode": {
    "name": "ipython",
    "version": 3
   },
   "file_extension": ".py",
   "mimetype": "text/x-python",
   "name": "python",
   "nbconvert_exporter": "python",
   "pygments_lexer": "ipython3",
   "version": "3.12.5"
  }
 },
 "nbformat": 4,
 "nbformat_minor": 5
}
